{
 "cells": [
  {
   "cell_type": "code",
   "execution_count": 1,
   "id": "7371e1a0-7ff5-4c2c-8303-e6ea1495aa79",
   "metadata": {},
   "outputs": [],
   "source": [
    "import numpy as np\n",
    "import pandas as pd"
   ]
  },
  {
   "cell_type": "code",
   "execution_count": 2,
   "id": "f5b8ec2e-3507-4c5e-9004-a15f3d378633",
   "metadata": {},
   "outputs": [],
   "source": [
    "import matplotlib.pyplot as plt\n",
    "import seaborn as sns"
   ]
  },
  {
   "cell_type": "code",
   "execution_count": 3,
   "id": "7c10b0de-bdf9-450c-a85a-f2a03d795220",
   "metadata": {},
   "outputs": [],
   "source": [
    "import MySQLdb"
   ]
  },
  {
   "cell_type": "code",
   "execution_count": 4,
   "id": "2a81bca9-15c3-4ca2-8eff-c5d5cd474d36",
   "metadata": {},
   "outputs": [],
   "source": [
    "import warnings\n",
    "warnings.simplefilter(\"ignore\")"
   ]
  },
  {
   "cell_type": "code",
   "execution_count": 5,
   "id": "2cad407d-b12c-47c4-8cef-7a68f2c60026",
   "metadata": {},
   "outputs": [],
   "source": [
    "class Data:\n",
    "    def __init__(self, table_name):\n",
    "        self.__filename = table_name\n",
    "        with open(\"D:/github_projects/login.txt\") as file:\n",
    "            self.__myserver_config = file.read().split(\",\") #config data for SQL server\n",
    "            \n",
    "        connect = MySQLdb.connect(*self.__myserver_config)\n",
    "        cursor = connect.cursor()\n",
    "        query = \"SELECT * FROM titanium_pure\"\n",
    "        self.__data = pd.read_sql(query, connect)\n",
    "        \n",
    "        connect.close()\n",
    "\n",
    "\n",
    "    \n",
    "    @property\n",
    "    def data(self):\n",
    "        return self.__data\n",
    "\n",
    "\n",
    "    @property\n",
    "    def y(self):\n",
    "        return self.__data[\"Density\"]\n",
    "\n",
    "    @property\n",
    "    def X(self):\n",
    "        return self.__data.drop(\"Density\", axis=1)\n",
    "\n",
    "\n",
    "    \n",
    "    \n",
    "    def __str__(self):\n",
    "        return str(self.data)\n",
    "\n",
    "    def __repr__(self):\n",
    "        return str(self.data)\n",
    "\n",
    "    \n",
    "        \n",
    "\n",
    "        \n",
    "        \n",
    "        \n",
    "        \n",
    "    "
   ]
  },
  {
   "cell_type": "code",
   "execution_count": 6,
   "id": "b8f7ea87-0b68-4a84-991a-8e73a9e5eee9",
   "metadata": {},
   "outputs": [],
   "source": []
  },
  {
   "cell_type": "code",
   "execution_count": 14,
   "id": "fa2de6f0-f042-465e-868a-85be45dbe110",
   "metadata": {},
   "outputs": [
    {
     "ename": "SyntaxError",
     "evalue": "invalid syntax (2856900902.py, line 6)",
     "output_type": "error",
     "traceback": [
      "\u001b[1;36m  Cell \u001b[1;32mIn[14], line 6\u001b[1;36m\u001b[0m\n\u001b[1;33m    def\u001b[0m\n\u001b[1;37m        ^\u001b[0m\n\u001b[1;31mSyntaxError\u001b[0m\u001b[1;31m:\u001b[0m invalid syntax\n"
     ]
    }
   ],
   "source": [
    "class DataPreprocessing:\n",
    "    def __init__(self, data):\n",
    "        self.__X = data.X\n",
    "        self.__y = data.y\n",
    "\n",
    "    def "
   ]
  },
  {
   "cell_type": "code",
   "execution_count": 13,
   "id": "631622a7-c47c-49ae-8e7d-704894da4e67",
   "metadata": {},
   "outputs": [],
   "source": [
    "data1 = Data(\"titanium_pure\")"
   ]
  },
  {
   "cell_type": "code",
   "execution_count": null,
   "id": "1142c56e-1c53-4cbe-b95d-e2db6810bdcd",
   "metadata": {},
   "outputs": [],
   "source": []
  },
  {
   "cell_type": "code",
   "execution_count": null,
   "id": "99d0edcc-5198-4152-a7af-a687e0ceda7f",
   "metadata": {},
   "outputs": [],
   "source": []
  }
 ],
 "metadata": {
  "kernelspec": {
   "display_name": "Python 3 (ipykernel)",
   "language": "python",
   "name": "python3"
  },
  "language_info": {
   "codemirror_mode": {
    "name": "ipython",
    "version": 3
   },
   "file_extension": ".py",
   "mimetype": "text/x-python",
   "name": "python",
   "nbconvert_exporter": "python",
   "pygments_lexer": "ipython3",
   "version": "3.12.7"
  }
 },
 "nbformat": 4,
 "nbformat_minor": 5
}
