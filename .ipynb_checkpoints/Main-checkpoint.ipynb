{
 "cells": [
  {
   "cell_type": "code",
   "execution_count": 3,
   "id": "7371e1a0-7ff5-4c2c-8303-e6ea1495aa79",
   "metadata": {},
   "outputs": [],
   "source": [
    "import numpy as np\n",
    "import pandas as pd"
   ]
  },
  {
   "cell_type": "code",
   "execution_count": 4,
   "id": "f5b8ec2e-3507-4c5e-9004-a15f3d378633",
   "metadata": {},
   "outputs": [],
   "source": [
    "import matplotlib.pyplot as plt\n",
    "import seaborn as sns"
   ]
  },
  {
   "cell_type": "code",
   "execution_count": 5,
   "id": "2a81bca9-15c3-4ca2-8eff-c5d5cd474d36",
   "metadata": {},
   "outputs": [],
   "source": [
    "import warnings\n",
    "warnings.simplefilter(\"ignore\")"
   ]
  },
  {
   "cell_type": "code",
   "execution_count": 6,
   "id": "2cad407d-b12c-47c4-8cef-7a68f2c60026",
   "metadata": {},
   "outputs": [],
   "source": [
    "class Data:\n",
    "    def __init__(self, filename):\n",
    "        self.__data = pd.read_excel(filename)\n",
    "\n",
    "    \n",
    "    \n",
    "    @property\n",
    "    def data(self):\n",
    "        return self.__data"
   ]
  },
  {
   "cell_type": "code",
   "execution_count": 7,
   "id": "d5cafbba-0f34-49f3-921a-b0a9c7e66ba1",
   "metadata": {},
   "outputs": [],
   "source": [
    "data1 = Data(r\"D:/Diploma_files/ВТ1-00.xlsx\")"
   ]
  },
  {
   "cell_type": "code",
   "execution_count": null,
   "id": "df0352d9-c6c6-4f1e-bd68-ef8f678af1ed",
   "metadata": {},
   "outputs": [],
   "source": []
  },
  {
   "cell_type": "code",
   "execution_count": null,
   "id": "bb6d4ef0-4ba4-45e9-950a-7032b50d2118",
   "metadata": {},
   "outputs": [],
   "source": []
  },
  {
   "cell_type": "code",
   "execution_count": null,
   "id": "46e74409-a4b7-405b-9591-306ac110dffd",
   "metadata": {},
   "outputs": [],
   "source": []
  }
 ],
 "metadata": {
  "kernelspec": {
   "display_name": "Python 3 (ipykernel)",
   "language": "python",
   "name": "python3"
  },
  "language_info": {
   "codemirror_mode": {
    "name": "ipython",
    "version": 3
   },
   "file_extension": ".py",
   "mimetype": "text/x-python",
   "name": "python",
   "nbconvert_exporter": "python",
   "pygments_lexer": "ipython3",
   "version": "3.12.7"
  }
 },
 "nbformat": 4,
 "nbformat_minor": 5
}
