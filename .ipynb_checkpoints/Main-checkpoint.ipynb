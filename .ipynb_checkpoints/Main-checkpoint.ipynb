{
 "cells": [
  {
   "cell_type": "code",
   "execution_count": 1,
   "id": "7371e1a0-7ff5-4c2c-8303-e6ea1495aa79",
   "metadata": {},
   "outputs": [],
   "source": [
    "import numpy as np\n",
    "import pandas as pd"
   ]
  },
  {
   "cell_type": "code",
   "execution_count": 2,
   "id": "f5b8ec2e-3507-4c5e-9004-a15f3d378633",
   "metadata": {},
   "outputs": [],
   "source": [
    "import matplotlib.pyplot as plt\n",
    "import seaborn as sns"
   ]
  },
  {
   "cell_type": "code",
   "execution_count": 3,
   "id": "7c10b0de-bdf9-450c-a85a-f2a03d795220",
   "metadata": {},
   "outputs": [],
   "source": [
    "import MySQLdb"
   ]
  },
  {
   "cell_type": "code",
   "execution_count": 4,
   "id": "2a81bca9-15c3-4ca2-8eff-c5d5cd474d36",
   "metadata": {},
   "outputs": [],
   "source": [
    "import warnings\n",
    "warnings.simplefilter(\"ignore\")"
   ]
  },
  {
   "cell_type": "code",
   "execution_count": 5,
   "id": "2cad407d-b12c-47c4-8cef-7a68f2c60026",
   "metadata": {},
   "outputs": [],
   "source": [
    "class Data:\n",
    "    def __init__(self, table_name):\n",
    "        self.__filename = table_name\n",
    "        with open(\"D:/github_projects/login.txt\") as file:\n",
    "            self.__myserver_config = file.read().split(\",\") #config data for SQL server\n",
    "            \n",
    "        connect = MySQLdb.connect(*self.__myserver_config)\n",
    "        cursor = connect.cursor()\n",
    "        query = \"SELECT * FROM titanium_pure\"\n",
    "        self.__data = pd.read_sql(query, connect)\n",
    "        \n",
    "        connect.close()\n",
    "\n",
    "\n",
    "    \n",
    "    @property\n",
    "    def data(self):\n",
    "        return self.__data\n",
    "\n",
    "\n",
    "    @property\n",
    "    def y(self):\n",
    "        return self.__data[\"Density\"]\n",
    "\n",
    "    @property\n",
    "    def X(self):\n",
    "        return self.__data.drop(\"Density\", axis=1)\n",
    "\n",
    "\n",
    "    \n",
    "    \n",
    "    def __str__(self):\n",
    "        return str(self.data)\n",
    "\n",
    "    def __repr__(self):\n",
    "        return str(self.data)\n",
    "\n",
    "    \n",
    "        \n",
    "\n",
    "        \n",
    "        \n",
    "        \n",
    "        \n",
    "    "
   ]
  },
  {
   "cell_type": "code",
   "execution_count": 6,
   "id": "b8f7ea87-0b68-4a84-991a-8e73a9e5eee9",
   "metadata": {},
   "outputs": [],
   "source": [
    "data1 = Data(\"titanium_pure\")"
   ]
  },
  {
   "cell_type": "code",
   "execution_count": 7,
   "id": "23c5a1c7-d0bd-4196-af25-a912d059c74c",
   "metadata": {},
   "outputs": [
    {
     "data": {
      "text/plain": [
       "      id  Lazer  Power  Speed  Scanning_speed  Thickness Stratagy Density  \\\n",
       "0      1      1    160    700              80         50    Lines   95,71   \n",
       "1      2      1    180    700              80         50    Lines   96,67   \n",
       "2      3      1    200    700              80         50    Lines   97,00   \n",
       "3      4      1    160    750              80         50    Lines   95,97   \n",
       "4      5      1    180    750              80         50    Lines   96,48   \n",
       "..   ...    ...    ...    ...             ...        ...      ...     ...   \n",
       "487  488      1    370   1100             120         50   Chess4   96,73   \n",
       "488  489      1    385   1100             120         50   Chess4   96,45   \n",
       "489  490      1    395   1100             120         50   Chess4   97,81   \n",
       "490  491      1    370   1100              90         50   Chess4   97,60   \n",
       "491  492      1    370   1100             100         50   Chess4   97,04   \n",
       "\n",
       "       Х    У Scanning_spot  \n",
       "0     85   15           227  \n",
       "1     60   15           227  \n",
       "2     35   15           227  \n",
       "3     10   15           227  \n",
       "4    -15   15           227  \n",
       "..   ...  ...           ...  \n",
       "487   75  -60          76,5  \n",
       "488   75  -80          76,5  \n",
       "489  100  -90          76,5  \n",
       "490  100  -70          76,5  \n",
       "491  100  -50          76,5  \n",
       "\n",
       "[492 rows x 11 columns]"
      ]
     },
     "execution_count": 7,
     "metadata": {},
     "output_type": "execute_result"
    }
   ],
   "source": [
    "data1"
   ]
  },
  {
   "cell_type": "code",
   "execution_count": null,
   "id": "631622a7-c47c-49ae-8e7d-704894da4e67",
   "metadata": {},
   "outputs": [],
   "source": []
  }
 ],
 "metadata": {
  "kernelspec": {
   "display_name": "Python 3 (ipykernel)",
   "language": "python",
   "name": "python3"
  },
  "language_info": {
   "codemirror_mode": {
    "name": "ipython",
    "version": 3
   },
   "file_extension": ".py",
   "mimetype": "text/x-python",
   "name": "python",
   "nbconvert_exporter": "python",
   "pygments_lexer": "ipython3",
   "version": "3.12.7"
  }
 },
 "nbformat": 4,
 "nbformat_minor": 5
}
