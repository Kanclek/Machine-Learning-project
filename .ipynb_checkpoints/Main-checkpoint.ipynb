{
 "cells": [
  {
   "cell_type": "code",
   "execution_count": 1,
   "id": "7371e1a0-7ff5-4c2c-8303-e6ea1495aa79",
   "metadata": {},
   "outputs": [],
   "source": [
    "import numpy as np\n",
    "import pandas as pd"
   ]
  },
  {
   "cell_type": "code",
   "execution_count": 2,
   "id": "7c10b0de-bdf9-450c-a85a-f2a03d795220",
   "metadata": {},
   "outputs": [],
   "source": [
    "import MySQLdb"
   ]
  },
  {
   "cell_type": "code",
   "execution_count": 3,
   "id": "329db5ed-5ccd-40c3-b47f-2dc733fce5a0",
   "metadata": {},
   "outputs": [],
   "source": [
    "import matplotlib.pyplot as plt\n",
    "import seaborn as sns"
   ]
  },
  {
   "cell_type": "code",
   "execution_count": 4,
   "id": "2a81bca9-15c3-4ca2-8eff-c5d5cd474d36",
   "metadata": {},
   "outputs": [],
   "source": [
    "import warnings\n",
    "warnings.simplefilter(\"ignore\")"
   ]
  },
  {
   "cell_type": "markdown",
   "id": "37a7a447-e215-4263-9cc5-c0f9338d3950",
   "metadata": {},
   "source": [
    "### Input Data"
   ]
  },
  {
   "cell_type": "code",
   "execution_count": 5,
   "id": "dd0f7a51-51dc-4805-9b53-d36a1c55e06a",
   "metadata": {},
   "outputs": [],
   "source": [
    "def get_data(filename):\n",
    "    #change for sharing\n",
    "    with open(\"D:/github_projects/login.txt\") as file:\n",
    "        myserver_config = file.read().split(\",\") #config data for SQL server\n",
    "        connect = MySQLdb.connect(*myserver_config)\n",
    "        cursor = connect.cursor()\n",
    "        query = f\"SELECT * FROM {filename}\"\n",
    "        data = pd.read_sql(query, connect, index_col=\"id\")"
   ]
  },
  {
   "cell_type": "code",
   "execution_count": 6,
   "id": "8b67fd23-2fdf-4fc4-ad5a-72e1799d092e",
   "metadata": {},
   "outputs": [],
   "source": [
    "def change_types(mydata):\n",
    "    mydata = mydata.replace(\"None\", np.nan)\n",
    "    for elem in [\"Density\", \"Х\", \"У\", \"Scanning_spot\"]:\n",
    "        mydata[elem] = mydata[elem].str.replace(\",\", \".\")\n",
    "        mydata[elem] = mydata[elem].astype(np.float32)\n",
    "    mydata[\"Lazer\"] = mydata[\"Lazer\"].astype(np.object_)\n",
    "    #remove thickness due to its various\n",
    "    mydata.drop(\"Thickness\", inplace=True, axis=1)\n",
    "    return mydata\n"
   ]
  },
  {
   "cell_type": "code",
   "execution_count": 7,
   "id": "f9a9f8a9-0a5e-4cf5-bfe5-633a55507539",
   "metadata": {},
   "outputs": [],
   "source": [
    "data = change_types(data)"
   ]
  },
  {
   "cell_type": "markdown",
   "id": "1e15a0ad-613d-4466-8dc6-3e432adb5c71",
   "metadata": {},
   "source": [
    "### Data Preprocessing"
   ]
  },
  {
   "cell_type": "markdown",
   "id": "4337c153-af5a-4029-ad6d-bdba77d374be",
   "metadata": {},
   "source": [
    "Main data description"
   ]
  },
  {
   "cell_type": "code",
   "execution_count": 18,
   "id": "28445f3f-131a-4d4b-9466-1cf5f074bb14",
   "metadata": {},
   "outputs": [
    {
     "ename": "SyntaxError",
     "evalue": "incomplete input (719412577.py, line 36)",
     "output_type": "error",
     "traceback": [
      "\u001b[1;36m  Cell \u001b[1;32mIn[18], line 36\u001b[1;36m\u001b[0m\n\u001b[1;33m    def One_hot_encoding(self):\u001b[0m\n\u001b[1;37m                               ^\u001b[0m\n\u001b[1;31mSyntaxError\u001b[0m\u001b[1;31m:\u001b[0m incomplete input\n"
     ]
    }
   ],
   "source": [
    "class DataPreprocessing:\n",
    "    def __init__(self, df):\n",
    "        self.__data = df\n",
    "        self.numerical_cols = df.select_dtypes([\"int\", \"float\"]).columns\n",
    "        self.categorical_cols = df.select_dtypes([\"object\"]).columns\n",
    "        self.__X = df.drop(\"Density\", axis=1)\n",
    "        self.__y = df[\"Density\"]\n",
    "    \n",
    "    def Main_info(self):\n",
    "        print(self.head())\n",
    "        print(self.info())\n",
    "        print(self.describe())    \n",
    "\n",
    "    def Numerical_review(self):\n",
    "        for col in self.numerical_cols:\n",
    "            sns.histplot(self.__data[col], kde=True)\n",
    "            plt.title(f\"Distribution of {col}\")\n",
    "            plt.show();\n",
    "\n",
    "    def Emmisions_review(self):\n",
    "        for col in self.numerical_cols:\n",
    "            sns.boxplot(self.__data[col])\n",
    "            plt.title(f\"Boxplot of {col}\")\n",
    "            plt.show();\n",
    "\n",
    "    def Correlation_review(self):\n",
    "        corr_matrix = self.__data.select_dtypes([\"int\", \"float\"]).corr()\n",
    "        sns.heatmap(data=corr_matrix, annot=True, cmap=\"coolwarm\");\n",
    "\n",
    "    def Categorical_review(self):\n",
    "        for col in self.categorical_cols:\n",
    "            sns.countplot(x = col, data=df)\n",
    "            plt.title(f\"Countplot of {col}\")\n",
    "            plt.show();\n",
    "\n",
    "    def One_hot_encoding(self):\n",
    "        return "
   ]
  },
  {
   "cell_type": "code",
   "execution_count": 13,
   "id": "31ba8428-57e0-43c6-a4af-9ce94dc67876",
   "metadata": {},
   "outputs": [],
   "source": [
    "def One_hot_encoding(df):\n",
    "    return pd.get_dummies(data=df, columns=categorical_columns, drop_first=True)"
   ]
  },
  {
   "cell_type": "markdown",
   "id": "39226811-8260-48ea-8a43-b34c42542fd3",
   "metadata": {},
   "source": [
    "Standartization"
   ]
  },
  {
   "cell_type": "code",
   "execution_count": 14,
   "id": "1d12b283-b835-4532-b0b9-542a45568945",
   "metadata": {},
   "outputs": [],
   "source": [
    "from sklearn.preprocessing import StandardScaler"
   ]
  },
  {
   "cell_type": "code",
   "execution_count": 15,
   "id": "54fc19c9-b879-4879-8710-9ff1ab889381",
   "metadata": {},
   "outputs": [],
   "source": [
    "# Split in target and values\n",
    "X = data.drop(\"Density\", axis=1)\n",
    "y = data[\"Density\"]"
   ]
  },
  {
   "cell_type": "code",
   "execution_count": 16,
   "id": "b997ee74-efd4-4b7e-b8db-62796218d0e2",
   "metadata": {},
   "outputs": [
    {
     "ename": "NameError",
     "evalue": "name 'numerical_columns' is not defined",
     "output_type": "error",
     "traceback": [
      "\u001b[1;31m---------------------------------------------------------------------------\u001b[0m",
      "\u001b[1;31mNameError\u001b[0m                                 Traceback (most recent call last)",
      "Cell \u001b[1;32mIn[16], line 1\u001b[0m\n\u001b[1;32m----> 1\u001b[0m numerical_columns \u001b[38;5;241m=\u001b[39m \u001b[38;5;28mlist\u001b[39m(numerical_columns)\n\u001b[0;32m      2\u001b[0m numerical_columns\u001b[38;5;241m.\u001b[39mremove(\u001b[38;5;124m\"\u001b[39m\u001b[38;5;124mDensity\u001b[39m\u001b[38;5;124m\"\u001b[39m)\n",
      "\u001b[1;31mNameError\u001b[0m: name 'numerical_columns' is not defined"
     ]
    }
   ],
   "source": [
    "numerical_columns = list(numerical_columns)\n",
    "numerical_columns.remove(\"Density\")"
   ]
  },
  {
   "cell_type": "code",
   "execution_count": null,
   "id": "df32b4b6-4041-421a-a01d-e13146086550",
   "metadata": {},
   "outputs": [],
   "source": [
    "scaler = StandardScaler()\n",
    "X[numerical_columns] = scaler.fit_transform(X[numerical_columns])"
   ]
  },
  {
   "cell_type": "code",
   "execution_count": null,
   "id": "798df23e-1b1c-43c8-b5a8-be13dc4dc1a1",
   "metadata": {},
   "outputs": [],
   "source": []
  },
  {
   "cell_type": "code",
   "execution_count": null,
   "id": "642a2262-4403-4c63-a578-42f2d4c8403d",
   "metadata": {},
   "outputs": [],
   "source": []
  }
 ],
 "metadata": {
  "kernelspec": {
   "display_name": "Python 3 (ipykernel)",
   "language": "python",
   "name": "python3"
  },
  "language_info": {
   "codemirror_mode": {
    "name": "ipython",
    "version": 3
   },
   "file_extension": ".py",
   "mimetype": "text/x-python",
   "name": "python",
   "nbconvert_exporter": "python",
   "pygments_lexer": "ipython3",
   "version": "3.12.7"
  }
 },
 "nbformat": 4,
 "nbformat_minor": 5
}
