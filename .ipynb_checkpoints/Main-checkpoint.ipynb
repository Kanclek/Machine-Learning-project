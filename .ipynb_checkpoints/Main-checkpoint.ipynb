{
 "cells": [
  {
   "cell_type": "code",
   "execution_count": 1,
   "id": "7371e1a0-7ff5-4c2c-8303-e6ea1495aa79",
   "metadata": {},
   "outputs": [],
   "source": [
    "import numpy as np\n",
    "import pandas as pd"
   ]
  },
  {
   "cell_type": "code",
   "execution_count": 2,
   "id": "f5b8ec2e-3507-4c5e-9004-a15f3d378633",
   "metadata": {},
   "outputs": [],
   "source": [
    "import matplotlib.pyplot as plt\n",
    "import seaborn as sns"
   ]
  },
  {
   "cell_type": "code",
   "execution_count": 3,
   "id": "2a81bca9-15c3-4ca2-8eff-c5d5cd474d36",
   "metadata": {},
   "outputs": [],
   "source": [
    "import warnings\n",
    "warnings.simplefilter(\"ignore\")"
   ]
  },
  {
   "cell_type": "code",
   "execution_count": 4,
   "id": "2cad407d-b12c-47c4-8cef-7a68f2c60026",
   "metadata": {},
   "outputs": [],
   "source": [
    "class Data:\n",
    "    def __init__(self, filename):\n",
    "        self.__data = pd.read_excel(filename)[[\"Номер лазера\", \"Мощность, Вт\", \"Скорость сканирования, мм/с\", \"Шаг сканирования, мкм\", \"Толщина слоя, мкм\", \n",
    "                                              \"Тип перекрытия\", \"Плотность, %\", \"Координата Х, мм\", \"Координата У, мм\", \"Размер пятна, мкм\"]]\n",
    "        \n",
    "    @property\n",
    "    def data(self):\n",
    "        return self.__data\n",
    "\n",
    "    @property\n",
    "    def target(self):\n",
    "        return self.data[[\"Плотность, %\"]]\n",
    "\n",
    "    @property\n",
    "    def value(self):\n",
    "        return self.data.drop(\"Плотность, %\", axis=1)\n",
    "    \n",
    "    def __str__(self):\n",
    "        return str(self.data)\n",
    "\n",
    "    def __repr__(self):\n",
    "        return str(self.data)\n",
    "\n",
    "    def __delitem__(self, *item, axis=1):\n",
    "        self.data.drop(list(item), axis=axis, inplace=True)"
   ]
  },
  {
   "cell_type": "code",
   "execution_count": 5,
   "id": "d5cafbba-0f34-49f3-921a-b0a9c7e66ba1",
   "metadata": {},
   "outputs": [],
   "source": [
    "data1 = Data(r\"D:/Diploma_files/ВТ1-00.xlsx\")\n",
    "data2 = Data(r\"D:/Diploma_files/ВТ6.xlsx\")"
   ]
  },
  {
   "cell_type": "code",
   "execution_count": null,
   "id": "6d16700b-95e6-4073-9fba-a8ffb8d8c2a0",
   "metadata": {},
   "outputs": [],
   "source": []
  }
 ],
 "metadata": {
  "kernelspec": {
   "display_name": "Python 3 (ipykernel)",
   "language": "python",
   "name": "python3"
  },
  "language_info": {
   "codemirror_mode": {
    "name": "ipython",
    "version": 3
   },
   "file_extension": ".py",
   "mimetype": "text/x-python",
   "name": "python",
   "nbconvert_exporter": "python",
   "pygments_lexer": "ipython3",
   "version": "3.12.7"
  }
 },
 "nbformat": 4,
 "nbformat_minor": 5
}
