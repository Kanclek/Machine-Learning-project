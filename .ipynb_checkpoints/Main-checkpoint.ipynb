{
 "cells": [
  {
   "cell_type": "code",
   "execution_count": 1,
   "id": "7371e1a0-7ff5-4c2c-8303-e6ea1495aa79",
   "metadata": {},
   "outputs": [],
   "source": [
    "import numpy as np\n",
    "import pandas as pd"
   ]
  },
  {
   "cell_type": "code",
   "execution_count": 2,
   "id": "7c10b0de-bdf9-450c-a85a-f2a03d795220",
   "metadata": {},
   "outputs": [],
   "source": [
    "import MySQLdb"
   ]
  },
  {
   "cell_type": "code",
   "execution_count": 3,
   "id": "329db5ed-5ccd-40c3-b47f-2dc733fce5a0",
   "metadata": {},
   "outputs": [],
   "source": [
    "import matplotlib.pyplot as plt\n",
    "import seaborn as sns"
   ]
  },
  {
   "cell_type": "code",
   "execution_count": 4,
   "id": "2a81bca9-15c3-4ca2-8eff-c5d5cd474d36",
   "metadata": {},
   "outputs": [],
   "source": [
    "import warnings\n",
    "warnings.simplefilter(\"ignore\")"
   ]
  },
  {
   "cell_type": "code",
   "execution_count": 5,
   "id": "2cad407d-b12c-47c4-8cef-7a68f2c60026",
   "metadata": {},
   "outputs": [],
   "source": [
    "class Data:\n",
    "    def __init__(self, table_name):\n",
    "        self.__filename = table_name\n",
    "        with open(\"D:/github_projects/login.txt\") as file:\n",
    "            self.__myserver_config = file.read().split(\",\") #config data for SQL server\n",
    "            \n",
    "        connect = MySQLdb.connect(*self.__myserver_config)\n",
    "        cursor = connect.cursor()\n",
    "        query = \"SELECT * FROM titanium_pure\"\n",
    "        self.__data = pd.read_sql(query, connect, index_col=\"id\")\n",
    "        \n",
    "        connect.close()\n",
    "\n",
    "        self.change_types()\n",
    "\n",
    "    \n",
    "    def change_types(self):\n",
    "        self.__data = self.__data.replace(\"None\", np.nan)\n",
    "        for elem in [\"Density\", \"Х\", \"У\", \"Scanning_spot\"]:\n",
    "            self.__data[elem] = self.__data[elem].str.replace(\",\", \".\")\n",
    "            self.__data[elem] = self.__data[elem].astype(np.float32)\n",
    "            \n",
    "        \n",
    "    @property\n",
    "    def data(self):\n",
    "        return self.__data\n",
    "\n",
    "\n",
    "    @property\n",
    "    def y(self):\n",
    "        return self.__data[\"Density\"]\n",
    "\n",
    "    @property\n",
    "    def X(self):\n",
    "        return self.__data.drop(\"Density\", axis=1)\n",
    "\n",
    "\n",
    "    \n",
    "    \n",
    "    def __str__(self):\n",
    "        return str(self.data)\n",
    "\n",
    "    def __repr__(self):\n",
    "        return str(self.data) "
   ]
  },
  {
   "cell_type": "code",
   "execution_count": 6,
   "id": "d6935da2-87fd-44f7-a1eb-a8fdc411e239",
   "metadata": {},
   "outputs": [],
   "source": [
    "class Visualisation:\n",
    "    def __init__(self, data):\n",
    "        self.__df = data.data\n",
    "        \n",
    "    def show_distribution(self, *columns, show_all=False):\n",
    "        if not show_all:\n",
    "            for column in columns:\n",
    "                ax = sns.histplot(self.__df[column])\n",
    "                bins = ax.patches\n",
    "                heights = [patch.get_height() for patch in bins]\n",
    "                bin_edges = [patch.get_x() for patch in bins]\n",
    "                plt.scatter(bin_edges, heights, c=\"r\")\n",
    "                plt.plot(bin_edges, heights, \"r\")\n",
    "                plt.show()\n",
    "        else:\n",
    "            for column in self.__df.columns:\n",
    "                ax = sns.histplot(self.__df[column])\n",
    "                bins = ax.patches\n",
    "                heights = [patch.get_height() for patch in bins]\n",
    "                bin_edges = [patch.get_x() for patch in bins]\n",
    "                plt.scatter(bin_edges, heights, c=\"r\")\n",
    "                plt.plot(bin_edges, heights, \"r\")\n",
    "                plt.show()\n",
    "\n",
    "    def pairplot(self, *args, **kwargs):\n",
    "        sns.pairplot(*args, **kwargs, data=self.__df)\n",
    "\n",
    "    def boxplot(self, columns, *args, **kwargs):\n",
    "        for elem in columns:\n",
    "            sns.boxplot(self.__df[elem], *args, **kwargs)\n",
    "            plt.show()\n",
    "\n",
    "    def heatmap(self, *args, **kwargs):\n",
    "        pivot_table = self.__df.pivot_table()\n",
    "        sns.heatmap(data=pivot_table)\n",
    "        plt.show()\n",
    "\n",
    "\n",
    "        "
   ]
  }
 ],
 "metadata": {
  "kernelspec": {
   "display_name": "Python 3 (ipykernel)",
   "language": "python",
   "name": "python3"
  },
  "language_info": {
   "codemirror_mode": {
    "name": "ipython",
    "version": 3
   },
   "file_extension": ".py",
   "mimetype": "text/x-python",
   "name": "python",
   "nbconvert_exporter": "python",
   "pygments_lexer": "ipython3",
   "version": "3.12.7"
  }
 },
 "nbformat": 4,
 "nbformat_minor": 5
}
