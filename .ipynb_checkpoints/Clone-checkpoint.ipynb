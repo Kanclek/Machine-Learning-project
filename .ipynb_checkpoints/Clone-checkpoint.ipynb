{
 "cells": [
  {
   "cell_type": "code",
   "execution_count": null,
   "id": "cb2b4894-de46-4f42-a508-7441dda96260",
   "metadata": {},
   "outputs": [],
   "source": [
    "import numpy as np\n",
    "import pandas as pd"
   ]
  },
  {
   "cell_type": "code",
   "execution_count": null,
   "id": "ed7594f9-b7db-4ed9-8e49-d16fed760fdc",
   "metadata": {},
   "outputs": [],
   "source": [
    "import MySQLdb"
   ]
  },
  {
   "cell_type": "code",
   "execution_count": null,
   "id": "8d612103-d3c5-4e2c-8b62-2e3a9a9cdf7a",
   "metadata": {},
   "outputs": [],
   "source": [
    "import matplotlib.pyplot as plt\n",
    "import seaborn as sns"
   ]
  },
  {
   "cell_type": "code",
   "execution_count": null,
   "id": "ae3264fc-119b-4aae-8582-c275f1869351",
   "metadata": {},
   "outputs": [],
   "source": [
    "from sklearn.preprocessing import StandardScaler"
   ]
  },
  {
   "cell_type": "code",
   "execution_count": null,
   "id": "1adb9e1b-42ef-4f7a-bd9e-8814d3ee0ef8",
   "metadata": {},
   "outputs": [],
   "source": [
    "import warnings\n",
    "warnings.simplefilter(\"ignore\")"
   ]
  },
  {
   "cell_type": "markdown",
   "id": "b64ca8ca-a019-4e77-bbcd-ddb505b6f164",
   "metadata": {},
   "source": [
    "### Input Data"
   ]
  },
  {
   "cell_type": "code",
   "execution_count": null,
   "id": "997c8c40-b0d6-4bb8-8341-59d9fa30d9fe",
   "metadata": {},
   "outputs": [],
   "source": [
    "def get_data(filename):\n",
    "    #change for sharing\n",
    "    with open(\"D:/github_projects/login.txt\") as file:\n",
    "        myserver_config = file.read().split(\",\") #config data for SQL server\n",
    "        connect = MySQLdb.connect(*myserver_config)\n",
    "        cursor = connect.cursor()\n",
    "        query = f\"SELECT * FROM {filename}\"\n",
    "        data = pd.read_sql(query, connect, index_col=\"id\")\n",
    "    return data"
   ]
  },
  {
   "cell_type": "code",
   "execution_count": null,
   "id": "b0eafe4d-5200-4428-b2e2-6d158266dd2c",
   "metadata": {},
   "outputs": [],
   "source": [
    "def change_types(mydata):\n",
    "    mydata = mydata.replace(\"None\", np.nan)\n",
    "    for elem in [\"Density\", \"Х\", \"У\", \"Scanning_spot\"]:\n",
    "        mydata[elem] = mydata[elem].str.replace(\",\", \".\")\n",
    "        mydata[elem] = mydata[elem].astype(np.float32)\n",
    "    mydata[\"Lazer\"] = mydata[\"Lazer\"].astype(np.object_)\n",
    "    #remove thickness due to its various\n",
    "    mydata.drop(\"Thickness\", inplace=True, axis=1)\n",
    "    return mydata[mydata[\"Density\"] < 100]\n"
   ]
  },
  {
   "cell_type": "code",
   "execution_count": null,
   "id": "90825da9-dc6c-45a5-b3d4-3c672419d54d",
   "metadata": {},
   "outputs": [],
   "source": [
    "data = get_data(\"titanium_pure\")"
   ]
  },
  {
   "cell_type": "code",
   "execution_count": null,
   "id": "8d1132c3-bf8a-4a4e-9f24-7dfa3ce6c88c",
   "metadata": {},
   "outputs": [],
   "source": [
    "data = change_types(data)"
   ]
  },
  {
   "cell_type": "markdown",
   "id": "a02c26e1-5244-4629-9ac3-8939c57ceeb3",
   "metadata": {},
   "source": [
    "### Data Preprocessing"
   ]
  },
  {
   "cell_type": "markdown",
   "id": "a843c0a9-0391-44e1-8a34-60a8a5fc4c68",
   "metadata": {},
   "source": [
    "Main data description"
   ]
  },
  {
   "cell_type": "code",
   "execution_count": null,
   "id": "3c0689a7-b83e-4cbf-912f-5422f7717e9b",
   "metadata": {},
   "outputs": [],
   "source": [
    "class DataPreprocessing:\n",
    "    def __init__(self, df):\n",
    "        self.__data = df\n",
    "        self.numerical_cols = df.select_dtypes([\"int\", \"float\"]).columns\n",
    "        self.categorical_cols = df.select_dtypes([\"object\"]).columns\n",
    "    \n",
    "    def Main_info(self):\n",
    "        print(self.__data.head())\n",
    "        print(self.__data.info())\n",
    "        print(self.__data.describe())    \n",
    "\n",
    "    def Numerical_review(self):\n",
    "            \n",
    "        print(*self.numerical_cols, sep=\", \")\n",
    "        for col in self.numerical_cols:\n",
    "            sns.histplot(self.__data[col], kde=True)\n",
    "            plt.title(f\"Distribution of {col}\")\n",
    "            plt.show();\n",
    "\n",
    "    def Emmisions_review(self):\n",
    "\n",
    "        print(*self.numerical_cols, sep=\", \")\n",
    "        for col in self.numerical_cols:\n",
    "            sns.boxplot(self.__data[col])\n",
    "            plt.title(f\"Boxplot of {col}\")\n",
    "            plt.show();\n",
    "\n",
    "    def Remove_emmisions(self, boarders=3):\n",
    "\n",
    "        for col in self.numerical_cols:\n",
    "            standart_deviasion = self.__data[col].std()\n",
    "            self.__data = self.__data[(self.__data[col] < boarders*standart_deviasion) & (self.__data[col] > -boarders*standart_deviasion)]\n",
    "\n",
    "        self.Emmisions_review()\n",
    "        return self.__data\n",
    "\n",
    "    def Correlation_review(self):\n",
    "\n",
    "        corr_matrix = self.__data.select_dtypes([\"int\", \"float\"]).corr()\n",
    "        sns.heatmap(data=corr_matrix, annot=True, cmap=\"coolwarm\");\n",
    "\n",
    "    def Categorical_review(self):\n",
    "        \n",
    "        print(*self.categorical_cols, sep=\", \")\n",
    "        for col in self.categorical_cols:\n",
    "            sns.countplot(x = col, data=self.__data)\n",
    "            plt.title(f\"Countplot of {col}\")\n",
    "            plt.show();\n",
    "\n",
    "    def One_hot_encoding(self):\n",
    "        self.__data = pd.get_dummies(data=self.__data, columns=self.categorical_cols, drop_first=True)\n",
    "        return self.__data\n",
    "\n",
    "    def Standartization(self):\n",
    "        columns = list(self.numerical_cols)\n",
    "        columns.remove(\"Density\")\n",
    "        scalar = StandardScaler()\n",
    "        self.__data[columns] = scalar.fit_transform(self.X[columns])\n",
    "        return self.X\n",
    "\n",
    "\n",
    "    @property\n",
    "    def X(self):\n",
    "        name = \"Density\"\n",
    "        if name in self.__data.columns:\n",
    "            return self.__data.drop(\"Density\", axis=1)\n",
    "        return self.__data\n",
    "    \n",
    "    @property\n",
    "    def y(self):\n",
    "        return self.__data[\"Density\"]"
   ]
  },
  {
   "cell_type": "code",
   "execution_count": null,
   "id": "18b89b48-2ab2-4a49-8ec4-cd1ecac9fa91",
   "metadata": {},
   "outputs": [],
   "source": [
    "instance = DataPreprocessing(data)"
   ]
  },
  {
   "cell_type": "markdown",
   "id": "671c88ce-3ec6-42de-b8e0-778eb56e4ed4",
   "metadata": {},
   "source": [
    "### Main data info"
   ]
  },
  {
   "cell_type": "code",
   "execution_count": null,
   "id": "54522a2e-5801-415b-bba3-fdb8b86c8b55",
   "metadata": {},
   "outputs": [],
   "source": [
    "instance.Main_info()"
   ]
  },
  {
   "cell_type": "markdown",
   "id": "7cd1749e-4ac0-4ebb-bad8-e361328ef160",
   "metadata": {},
   "source": [
    "### Numerical review"
   ]
  },
  {
   "cell_type": "code",
   "execution_count": null,
   "id": "b629f6b4-7f35-45dd-b98a-423de8ee7a3a",
   "metadata": {},
   "outputs": [],
   "source": [
    "instance.Numerical_review()"
   ]
  },
  {
   "cell_type": "markdown",
   "id": "c661753e-2e7f-435a-af79-79765fb6aef1",
   "metadata": {},
   "source": [
    "### Emission in Data"
   ]
  },
  {
   "cell_type": "code",
   "execution_count": null,
   "id": "5023daa8-7bb7-4383-a1b4-c1b52334b730",
   "metadata": {},
   "outputs": [],
   "source": [
    "instance.Emmisions_review()"
   ]
  },
  {
   "cell_type": "markdown",
   "id": "77077fa7-641c-433f-bbaa-1ec9c2bcc52a",
   "metadata": {},
   "source": [
    "### Correlation review"
   ]
  },
  {
   "cell_type": "code",
   "execution_count": null,
   "id": "c2dd5dc3-c3b9-4a7a-addc-5de5585c079d",
   "metadata": {},
   "outputs": [],
   "source": [
    "instance.Correlation_review()"
   ]
  },
  {
   "cell_type": "markdown",
   "id": "4bdee13c-7ea6-4572-871d-57339253b6c7",
   "metadata": {},
   "source": [
    "### Categorical data review"
   ]
  },
  {
   "cell_type": "code",
   "execution_count": null,
   "id": "b50ffdd4-75fd-4f9a-a1aa-0d1030733cea",
   "metadata": {},
   "outputs": [],
   "source": [
    "instance.Categorical_review()"
   ]
  },
  {
   "cell_type": "markdown",
   "id": "6d0d7a75-edca-4ef9-886f-ee77e7f87657",
   "metadata": {},
   "source": [
    "### One Hot Encoding for Categorical fields"
   ]
  },
  {
   "cell_type": "code",
   "execution_count": null,
   "id": "abb40120-38e3-417c-867c-354732e653dc",
   "metadata": {},
   "outputs": [],
   "source": [
    "instance.One_hot_encoding()"
   ]
  },
  {
   "cell_type": "markdown",
   "id": "4e201644-d9e5-4bec-922e-c484051ed391",
   "metadata": {},
   "source": [
    "### Standartization"
   ]
  },
  {
   "cell_type": "code",
   "execution_count": null,
   "id": "8b327794-fb00-401d-8c4e-03e1ffdccd25",
   "metadata": {},
   "outputs": [],
   "source": [
    "instance.Standartization()"
   ]
  },
  {
   "cell_type": "markdown",
   "id": "d85e6365-d865-4b42-b5a0-020ae3f12d1f",
   "metadata": {},
   "source": [
    "### Work with values"
   ]
  },
  {
   "cell_type": "code",
   "execution_count": null,
   "id": "f301ccfc-0352-44fc-a700-b7a78ee36dc4",
   "metadata": {},
   "outputs": [],
   "source": [
    "X = DataPreprocessing(instance.X)"
   ]
  },
  {
   "cell_type": "code",
   "execution_count": null,
   "id": "33e6685b-ffe8-4506-b95b-475e70cc7dd7",
   "metadata": {},
   "outputs": [],
   "source": [
    "X.Emmisions_review()"
   ]
  },
  {
   "cell_type": "code",
   "execution_count": null,
   "id": "125368a5-17dd-4797-a667-8dcac16985a2",
   "metadata": {},
   "outputs": [],
   "source": [
    "X.Remove_emmisions()"
   ]
  },
  {
   "cell_type": "markdown",
   "id": "de60a5fe-2c4c-4b2a-8c7c-245d0d1e5b35",
   "metadata": {},
   "source": [
    "### PCA analysis"
   ]
  },
  {
   "cell_type": "code",
   "execution_count": null,
   "id": "b63bacdb-c8d1-4ab0-bc22-2fb2f3c9e6e7",
   "metadata": {},
   "outputs": [],
   "source": [
    "from sklearn.decomposition import PCA"
   ]
  },
  {
   "cell_type": "code",
   "execution_count": null,
   "id": "d2e4868c-ce05-428b-9565-9e0b1fa169bd",
   "metadata": {},
   "outputs": [],
   "source": [
    "class PCA_analysis:\n",
    "    def __init__(self, data):\n",
    "        self.__data = data\n",
    "        \n",
    "    def var_visualisation(self, var_threshold=0.9):\n",
    "        max_principal = len(data.columns)\n",
    "        principal = PCA(n_components=max_principal).fit(self.__data)\n",
    "        \n",
    "        x = []\n",
    "        y = []\n",
    "        for i in range(1, max_principal):\n",
    "            y.append(sum(principal.explained_variance_ratio_[:i]))\n",
    "            x.append(i)\n",
    "\n",
    "        sns.barplot(x=x, y=y)\n",
    "        sns.lineplot(y=var_threshold, x=plt.xlim(), c=\"r\", label=f\"threshold = {var_threshold}\")\n",
    "        plt.title(\"Explained Variance Ratio\")\n",
    "        plt.xlabel(\"Nums of components\")\n",
    "        plt.ylabel(\"Ratio\")\n",
    "        plt.legend()\n",
    "        plt.grid()\n",
    "        plt.show()\n",
    "\n",
    "    def resolve_optimal_components(self, var_threshold=0.9):\n",
    "        pca = None\n",
    "        for i in range(1, len(data.columns) + 1):\n",
    "            principal = PCA(n_components=i).fit(self.__data)\n",
    "            if sum(principal.explained_variance_ratio_) >= var_threshold:\n",
    "                pca = principal\n",
    "                break\n",
    "                \n",
    "        components_df = pd.DataFrame(pca.components_, columns=self.__data.columns, index=[f\"PC{k}\" for k in range(1, i+1)])\n",
    "        print(\"PCA:\\n\", components_df)\n",
    "\n",
    "        return principal.transform\n",
    "    \n",
    "            \n",
    "        "
   ]
  },
  {
   "cell_type": "code",
   "execution_count": null,
   "id": "9470c994-e395-4d67-8f7b-a63ac9e1c4bf",
   "metadata": {},
   "outputs": [],
   "source": [
    "instance = PCA_analysis(X.X)"
   ]
  },
  {
   "cell_type": "code",
   "execution_count": null,
   "id": "7be24981-12a8-41b4-90c3-7f5d48424f56",
   "metadata": {},
   "outputs": [],
   "source": [
    "instance.var_visualisation()"
   ]
  },
  {
   "cell_type": "code",
   "execution_count": null,
   "id": "18a03e0c-741c-4fb1-ac9d-444e09cbb2bd",
   "metadata": {},
   "outputs": [],
   "source": [
    "X = instance.resolve_optimal_components()(X.X)"
   ]
  },
  {
   "cell_type": "code",
   "execution_count": null,
   "id": "41bdc78c-c48c-49dc-ab77-8947f18f58ab",
   "metadata": {},
   "outputs": [],
   "source": [
    "X"
   ]
  },
  {
   "cell_type": "markdown",
   "id": "9e0a8ef9-068e-4617-bbaa-1848ebc6da70",
   "metadata": {},
   "source": [
    "### Machine Learning"
   ]
  }
 ],
 "metadata": {
  "kernelspec": {
   "display_name": "Python 3 (ipykernel)",
   "language": "python",
   "name": "python3"
  },
  "language_info": {
   "codemirror_mode": {
    "name": "ipython",
    "version": 3
   },
   "file_extension": ".py",
   "mimetype": "text/x-python",
   "name": "python",
   "nbconvert_exporter": "python",
   "pygments_lexer": "ipython3",
   "version": "3.12.7"
  }
 },
 "nbformat": 4,
 "nbformat_minor": 5
}
